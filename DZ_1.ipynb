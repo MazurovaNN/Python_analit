{
  "nbformat": 4,
  "nbformat_minor": 0,
  "metadata": {
    "colab": {
      "provenance": [],
      "authorship_tag": "ABX9TyNPV9aibtCE5YYRDJzdiJai",
      "include_colab_link": true
    },
    "kernelspec": {
      "name": "python3",
      "display_name": "Python 3"
    },
    "language_info": {
      "name": "python"
    }
  },
  "cells": [
    {
      "cell_type": "markdown",
      "metadata": {
        "id": "view-in-github",
        "colab_type": "text"
      },
      "source": [
        "<a href=\"https://colab.research.google.com/github/MazurovaNN/Python_analit/blob/main/DZ_1.ipynb\" target=\"_parent\"><img src=\"https://colab.research.google.com/assets/colab-badge.svg\" alt=\"Open In Colab\"/></a>"
      ]
    },
    {
      "cell_type": "code",
      "source": [
        "from typing import List, Dict\n",
        "import pandas as pd\n",
        "import datetime"
      ],
      "metadata": {
        "id": "bm2tyF5r_T3T"
      },
      "execution_count": 1,
      "outputs": []
    },
    {
      "cell_type": "markdown",
      "source": [
        "##Условие 2:"
      ],
      "metadata": {
        "id": "_Pd2Uk5c_dai"
      }
    },
    {
      "cell_type": "markdown",
      "source": [
        "На складе лежат разные фрукты в разном количестве.\n",
        "\n",
        "Нужно написать функцию, которая на вход принимает любое количество названий фруктов\n",
        "и их количество, а возвращает общее количество фруктов на складе"
      ],
      "metadata": {
        "id": "jrZssF1c9_xu"
      }
    },
    {
      "cell_type": "code",
      "source": [
        "def sum_fruits(fruits: Dict):\n",
        "    return sum(fruits.values())\n",
        "\n",
        "storage1 = {'mango': 21, 'banana': 68, 'lime': 20, 'orange':10, 'apple': 55}\n",
        "sum_fruits(storage1)   "
      ],
      "metadata": {
        "colab": {
          "base_uri": "https://localhost:8080/"
        },
        "id": "bxgM7u2Y-Vej",
        "outputId": "61a67f4a-d395-4b68-9674-03c1298f88bb"
      },
      "execution_count": 2,
      "outputs": [
        {
          "output_type": "execute_result",
          "data": {
            "text/plain": [
              "174"
            ]
          },
          "metadata": {},
          "execution_count": 2
        }
      ]
    },
    {
      "cell_type": "markdown",
      "source": [
        "##Условие 3:"
      ],
      "metadata": {
        "id": "8FbrbQ7oAxPH"
      }
    },
    {
      "cell_type": "markdown",
      "source": [
        "Дан список с затратами на рекламу. Но в данных есть ошибки, некоторые затраты имеют отрицательную величину. Удалите такие значения из списка и посчитайте суммарные затраты\n",
        "[100, 125, -90, 345, 655, -1, 0, 200]\n",
        "Используйте list comprehensions"
      ],
      "metadata": {
        "id": "xHhqGduRBBAl"
      }
    },
    {
      "cell_type": "code",
      "source": [
        "zatrati = [100, 125, -90, 345, 655, -1, 0, 200]"
      ],
      "metadata": {
        "id": "w2R6j0wjBRVs"
      },
      "execution_count": 3,
      "outputs": []
    },
    {
      "cell_type": "code",
      "source": [
        "print(sum(a for a in zatrati if a >= 0))"
      ],
      "metadata": {
        "colab": {
          "base_uri": "https://localhost:8080/"
        },
        "id": "TOVtqz3ICB5k",
        "outputId": "55d5a5dd-d45c-4cc3-f648-2c0840816dd1"
      },
      "execution_count": 4,
      "outputs": [
        {
          "output_type": "stream",
          "name": "stdout",
          "text": [
            "1425\n"
          ]
        }
      ]
    },
    {
      "cell_type": "markdown",
      "source": [
        "##Условие 4.:"
      ],
      "metadata": {
        "id": "Dsjtcd7nCaJ8"
      }
    },
    {
      "cell_type": "markdown",
      "source": [
        "Даны два списка.\n",
        "\n",
        "Дата покупки"
      ],
      "metadata": {
        "id": "bIsh_DYjCn_x"
      }
    },
    {
      "cell_type": "code",
      "source": [
        "data = ['2021-09-14', '2021-12-15', '2021-09-08', '2021-12-05', '2021-10-09', '2021-09-30', '2021-12-22', '2021-11-29', '2021-12-24', '2021-11-26', '2021-10-27', '2021-12-18', '2021-11-09', '2021-11-23', '2021-09-27', '2021-10-02', '2021-12-27', '2021-09-20', '2021-12-13', '2021-11-01', '2021-11-09', '2021-12-06', '2021-12-08', '2021-10-09', '2021-10-31', '2021-09-30', '2021-11-09', '2021-12-13', '2021-10-26', '2021-12-09']\n"
      ],
      "metadata": {
        "id": "w8Kuqr5HC8so"
      },
      "execution_count": 5,
      "outputs": []
    },
    {
      "cell_type": "markdown",
      "source": [],
      "metadata": {
        "id": "LXkF6D6LEEcG"
      }
    },
    {
      "cell_type": "markdown",
      "source": [
        "Суммы покупок по датам"
      ],
      "metadata": {
        "id": "TRGXc4QlC_tn"
      }
    },
    {
      "cell_type": "code",
      "source": [
        "sum_chase = [1270, 8413, 9028, 3703, 5739, 4095, 295, 4944, 5723, 3701, 4471, 651, 7037, 4274, 6275, 4988, 6930, 2971, 6592, 2004, 2822, 519, 3406, 2732, 5015, 2008, 316, 6333, 5700, 2887]\n"
      ],
      "metadata": {
        "id": "XPWRQQq8DLc3"
      },
      "execution_count": 7,
      "outputs": []
    },
    {
      "cell_type": "markdown",
      "source": [
        "##4.1 Найдите, какая выручка у компании в ноябре"
      ],
      "metadata": {
        "id": "K_XuGzpTEKAd"
      }
    },
    {
      "cell_type": "markdown",
      "source": [
        "Используйте list comprehensions"
      ],
      "metadata": {
        "id": "U16znUrKEcly"
      }
    },
    {
      "cell_type": "code",
      "source": [
        "print(sum([s for d, s in zip(data, sum_chase) if d[5:7] == \"11\"]))"
      ],
      "metadata": {
        "colab": {
          "base_uri": "https://localhost:8080/"
        },
        "id": "VhNmiKQ4El2l",
        "outputId": "c6f63f38-ab7b-4eec-80ab-a197060e440b"
      },
      "execution_count": 8,
      "outputs": [
        {
          "output_type": "stream",
          "name": "stdout",
          "text": [
            "25098\n"
          ]
        }
      ]
    },
    {
      "cell_type": "markdown",
      "source": [
        "##4.2 Найдите выручку компании в зависимости от месяца"
      ],
      "metadata": {
        "id": "jkEMXsf5F2Ol"
      }
    },
    {
      "cell_type": "markdown",
      "source": [
        "Для этого напишите функцию, которая на вход принимает список с датами и список с выручкой, а на выходе словарь, где ключи - это месяцы, а значения - это выручка.\n",
        "\n",
        "Используйте аннотирование типов."
      ],
      "metadata": {
        "id": "o5S5E0kYGAaZ"
      }
    },
    {
      "cell_type": "code",
      "source": [
        "def sum_month (data: List, sum_chase: List) -> Dict:\n",
        "    df = pd.DataFrame()\n",
        "    df['Date'] = [datetime.datetime.strptime(i, '%Y-%m-%d') for i in data]\n",
        "    df['Sum'] = sum_chase\n",
        "    #df = df.groupby (df.Date.dt.month )['Sum']. sum ()\n",
        "    df['Month'] = pd.DatetimeIndex(df['Date']).month\n",
        "    df = df.groupby('Month').sum()\n",
        "    return df.to_dict('dict')\n",
        "    #df.to_dict('index')\n",
        "\n",
        "sum_month(data, sum_chase)"
      ],
      "metadata": {
        "colab": {
          "base_uri": "https://localhost:8080/"
        },
        "id": "wPEDbPE3GXfv",
        "outputId": "4d154286-333d-4192-8ba3-c1ee39c1d492"
      },
      "execution_count": 9,
      "outputs": [
        {
          "output_type": "execute_result",
          "data": {
            "text/plain": [
              "{'Sum': {9: 25647, 10: 28645, 11: 25098, 12: 45452}}"
            ]
          },
          "metadata": {},
          "execution_count": 9
        }
      ]
    }
  ]
}